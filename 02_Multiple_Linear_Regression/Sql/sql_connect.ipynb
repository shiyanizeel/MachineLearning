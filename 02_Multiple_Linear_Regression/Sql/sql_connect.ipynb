{
 "cells": [
  {
   "cell_type": "markdown",
   "metadata": {},
   "source": [
    "### Importing Library"
   ]
  },
  {
   "cell_type": "code",
   "execution_count": 1,
   "metadata": {},
   "outputs": [],
   "source": [
    "# CREATE TABLE Employees (\n",
    "#     EmployeeID INT PRIMARY KEY,\n",
    "#     FirstName VARCHAR(50),\n",
    "#     LastName VARCHAR(50),\n",
    "#     Age INT,\n",
    "#     Department VARCHAR(50)\n",
    "\n",
    "\n",
    "# INSERT INTO Employees (EmployeeID, FirstName, LastName, Age, Department) VALUES\n",
    "# (1, 'John', 'Doe', 30, 'HR'),\n",
    "# (2, 'Jane', 'Smith', 25, 'IT'),\n",
    "# (3, 'Emily', 'Johnson', 35, 'Finance'),\n",
    "# (4, 'Michael', 'Williams', 28, 'Marketing'),\n",
    "# (5, 'Sarah', 'Brown', 40, 'Sales');\n",
    "\n",
    "# SELECT * FROM Employees;  "
   ]
  },
  {
   "cell_type": "code",
   "execution_count": 2,
   "metadata": {},
   "outputs": [],
   "source": [
    "# !pip install pandas mysql-connector-python\n",
    "# %pip install pymysql"
   ]
  },
  {
   "cell_type": "code",
   "execution_count": null,
   "metadata": {},
   "outputs": [],
   "source": [
    "import pandas as pd\n",
    "import mysql.connector\n",
    "import warnings\n",
    "\n",
    "# Suppress warnings\n",
    "warnings.filterwarnings(\"ignore\")\n",
    "# Establish the database connection\n",
    "connection = mysql.connector.connect(\n",
    "    host='localhost',        # e.g., 'localhost' or your database server address\n",
    "    user='root',    # your database username\n",
    "    password='', # your database password\n",
    "    database='bia'          # your schema name\n",
    ")\n",
    "\n",
    "# Query to select all data from Employees table\n",
    "query = \"SELECT * FROM employees;\"\n",
    "\n",
    "# Use pandas to read the table into a DataFrame\n",
    "df = pd.read_sql(query, connection)\n",
    "\n",
    "# Close the database connection\n",
    "connection.close()\n",
    "\n",
    "# Display the DataFrame\n",
    "print(df)"
   ]
  },
  {
   "cell_type": "code",
   "execution_count": null,
   "metadata": {},
   "outputs": [],
   "source": []
  }
 ],
 "metadata": {
  "kernelspec": {
   "display_name": "base",
   "language": "python",
   "name": "python3"
  },
  "language_info": {
   "codemirror_mode": {
    "name": "ipython",
    "version": 3
   },
   "file_extension": ".py",
   "mimetype": "text/x-python",
   "name": "python",
   "nbconvert_exporter": "python",
   "pygments_lexer": "ipython3",
   "version": "3.12.7"
  }
 },
 "nbformat": 4,
 "nbformat_minor": 2
}
