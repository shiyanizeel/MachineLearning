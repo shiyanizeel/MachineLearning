{
 "cells": [
  {
   "cell_type": "markdown",
   "id": "7556c316",
   "metadata": {},
   "source": [
    "# RRN, LSTM & GRU Model\n",
    "\n",
    "- Newyork Taxi Dataset"
   ]
  },
  {
   "cell_type": "code",
   "execution_count": 57,
   "id": "09438ef7",
   "metadata": {},
   "outputs": [],
   "source": [
    "# '''The taxi dataset consists of records containing information about taxi trips, such as vendor IDs, \n",
    "# pickup and dropoff datetimes, passenger counts, and geographic coordinates (longitude and latitude) for both pickup \n",
    "# and dropoff locations. Additionally, the dataset includes a \"store_and_fwd_flag\" indicating whether \n",
    "# the trip data was stored in the vehicle before forwarding. This dataset is typically used for tasks \n",
    "# like predicting trip duration or analyzing taxi ride patterns.'''"
   ]
  },
  {
   "cell_type": "markdown",
   "id": "d44abb6f",
   "metadata": {},
   "source": [
    "### Step 1: Importing Libraries"
   ]
  },
  {
   "cell_type": "code",
   "execution_count": 58,
   "id": "69f83f7d",
   "metadata": {},
   "outputs": [],
   "source": [
    "import pandas as pd\n",
    "import numpy as np\n",
    "import matplotlib.pyplot as plt\n",
    "from sklearn.preprocessing import MinMaxScaler\n",
    "from sklearn.model_selection import train_test_split\n",
    "import tensorflow as tf\n",
    "from tensorflow import keras\n",
    "from sklearn.metrics import mean_squared_error\n",
    "import warnings\n",
    "warnings.filterwarnings('ignore')\n"
   ]
  },
  {
   "cell_type": "markdown",
   "id": "938e7d47",
   "metadata": {},
   "source": [
    "### Step 2: Data Preparation"
   ]
  },
  {
   "cell_type": "code",
   "execution_count": 3,
   "id": "0f640240",
   "metadata": {},
   "outputs": [
    {
     "data": {
      "text/html": [
       "<div>\n",
       "<style scoped>\n",
       "    .dataframe tbody tr th:only-of-type {\n",
       "        vertical-align: middle;\n",
       "    }\n",
       "\n",
       "    .dataframe tbody tr th {\n",
       "        vertical-align: top;\n",
       "    }\n",
       "\n",
       "    .dataframe thead th {\n",
       "        text-align: right;\n",
       "    }\n",
       "</style>\n",
       "<table border=\"1\" class=\"dataframe\">\n",
       "  <thead>\n",
       "    <tr style=\"text-align: right;\">\n",
       "      <th></th>\n",
       "      <th>id</th>\n",
       "      <th>vendor_id</th>\n",
       "      <th>pickup_datetime</th>\n",
       "      <th>dropoff_datetime</th>\n",
       "      <th>passenger_count</th>\n",
       "      <th>pickup_longitude</th>\n",
       "      <th>pickup_latitude</th>\n",
       "      <th>dropoff_longitude</th>\n",
       "      <th>dropoff_latitude</th>\n",
       "      <th>store_and_fwd_flag</th>\n",
       "    </tr>\n",
       "  </thead>\n",
       "  <tbody>\n",
       "    <tr>\n",
       "      <th>0</th>\n",
       "      <td>id2875421</td>\n",
       "      <td>2</td>\n",
       "      <td>14-03-2016 17:24</td>\n",
       "      <td>14-03-2016 17:32</td>\n",
       "      <td>1</td>\n",
       "      <td>-73.982155</td>\n",
       "      <td>40.767937</td>\n",
       "      <td>-73.964630</td>\n",
       "      <td>40.765602</td>\n",
       "      <td>N</td>\n",
       "    </tr>\n",
       "    <tr>\n",
       "      <th>1</th>\n",
       "      <td>id2377394</td>\n",
       "      <td>1</td>\n",
       "      <td>12-06-2016 00:43</td>\n",
       "      <td>12-06-2016 00:54</td>\n",
       "      <td>1</td>\n",
       "      <td>-73.980415</td>\n",
       "      <td>40.738564</td>\n",
       "      <td>-73.999481</td>\n",
       "      <td>40.731152</td>\n",
       "      <td>N</td>\n",
       "    </tr>\n",
       "    <tr>\n",
       "      <th>2</th>\n",
       "      <td>id3858529</td>\n",
       "      <td>2</td>\n",
       "      <td>19-01-2016 11:35</td>\n",
       "      <td>19-01-2016 12:10</td>\n",
       "      <td>1</td>\n",
       "      <td>-73.979027</td>\n",
       "      <td>40.763939</td>\n",
       "      <td>-74.005333</td>\n",
       "      <td>40.710087</td>\n",
       "      <td>N</td>\n",
       "    </tr>\n",
       "    <tr>\n",
       "      <th>3</th>\n",
       "      <td>id3504673</td>\n",
       "      <td>2</td>\n",
       "      <td>06-04-2016 19:32</td>\n",
       "      <td>06-04-2016 19:39</td>\n",
       "      <td>1</td>\n",
       "      <td>-74.010040</td>\n",
       "      <td>40.719971</td>\n",
       "      <td>-74.012268</td>\n",
       "      <td>40.706718</td>\n",
       "      <td>N</td>\n",
       "    </tr>\n",
       "    <tr>\n",
       "      <th>4</th>\n",
       "      <td>id2181028</td>\n",
       "      <td>2</td>\n",
       "      <td>26-03-2016 13:30</td>\n",
       "      <td>26-03-2016 13:38</td>\n",
       "      <td>1</td>\n",
       "      <td>-73.973053</td>\n",
       "      <td>40.793209</td>\n",
       "      <td>-73.972923</td>\n",
       "      <td>40.782520</td>\n",
       "      <td>N</td>\n",
       "    </tr>\n",
       "    <tr>\n",
       "      <th>...</th>\n",
       "      <td>...</td>\n",
       "      <td>...</td>\n",
       "      <td>...</td>\n",
       "      <td>...</td>\n",
       "      <td>...</td>\n",
       "      <td>...</td>\n",
       "      <td>...</td>\n",
       "      <td>...</td>\n",
       "      <td>...</td>\n",
       "      <td>...</td>\n",
       "    </tr>\n",
       "    <tr>\n",
       "      <th>16095</th>\n",
       "      <td>id1197632</td>\n",
       "      <td>1</td>\n",
       "      <td>27-05-2016 09:38</td>\n",
       "      <td>27-05-2016 09:48</td>\n",
       "      <td>1</td>\n",
       "      <td>-73.940025</td>\n",
       "      <td>40.751556</td>\n",
       "      <td>-73.970116</td>\n",
       "      <td>40.754772</td>\n",
       "      <td>N</td>\n",
       "    </tr>\n",
       "    <tr>\n",
       "      <th>16096</th>\n",
       "      <td>id3503918</td>\n",
       "      <td>2</td>\n",
       "      <td>07-01-2016 20:42</td>\n",
       "      <td>07-01-2016 20:55</td>\n",
       "      <td>1</td>\n",
       "      <td>-73.963051</td>\n",
       "      <td>40.799149</td>\n",
       "      <td>-73.953934</td>\n",
       "      <td>40.766590</td>\n",
       "      <td>N</td>\n",
       "    </tr>\n",
       "    <tr>\n",
       "      <th>16097</th>\n",
       "      <td>id2857349</td>\n",
       "      <td>1</td>\n",
       "      <td>10-01-2016 15:41</td>\n",
       "      <td>10-01-2016 15:47</td>\n",
       "      <td>1</td>\n",
       "      <td>-73.912605</td>\n",
       "      <td>40.774769</td>\n",
       "      <td>-73.922478</td>\n",
       "      <td>40.765701</td>\n",
       "      <td>N</td>\n",
       "    </tr>\n",
       "    <tr>\n",
       "      <th>16098</th>\n",
       "      <td>id3803774</td>\n",
       "      <td>1</td>\n",
       "      <td>20-01-2016 16:25</td>\n",
       "      <td>20-01-2016 16:37</td>\n",
       "      <td>1</td>\n",
       "      <td>-73.983444</td>\n",
       "      <td>40.755722</td>\n",
       "      <td>-73.978958</td>\n",
       "      <td>40.782188</td>\n",
       "      <td>N</td>\n",
       "    </tr>\n",
       "    <tr>\n",
       "      <th>16099</th>\n",
       "      <td>id0357773</td>\n",
       "      <td>2</td>\n",
       "      <td>07-03-2016 08:06</td>\n",
       "      <td>07-03-2016 08:18</td>\n",
       "      <td>1</td>\n",
       "      <td>-74.000763</td>\n",
       "      <td>40.747421</td>\n",
       "      <td>-73.980850</td>\n",
       "      <td>40.758770</td>\n",
       "      <td>N</td>\n",
       "    </tr>\n",
       "  </tbody>\n",
       "</table>\n",
       "<p>16100 rows × 10 columns</p>\n",
       "</div>"
      ],
      "text/plain": [
       "              id  vendor_id   pickup_datetime  dropoff_datetime  \\\n",
       "0      id2875421          2  14-03-2016 17:24  14-03-2016 17:32   \n",
       "1      id2377394          1  12-06-2016 00:43  12-06-2016 00:54   \n",
       "2      id3858529          2  19-01-2016 11:35  19-01-2016 12:10   \n",
       "3      id3504673          2  06-04-2016 19:32  06-04-2016 19:39   \n",
       "4      id2181028          2  26-03-2016 13:30  26-03-2016 13:38   \n",
       "...          ...        ...               ...               ...   \n",
       "16095  id1197632          1  27-05-2016 09:38  27-05-2016 09:48   \n",
       "16096  id3503918          2  07-01-2016 20:42  07-01-2016 20:55   \n",
       "16097  id2857349          1  10-01-2016 15:41  10-01-2016 15:47   \n",
       "16098  id3803774          1  20-01-2016 16:25  20-01-2016 16:37   \n",
       "16099  id0357773          2  07-03-2016 08:06  07-03-2016 08:18   \n",
       "\n",
       "       passenger_count  pickup_longitude  pickup_latitude  dropoff_longitude  \\\n",
       "0                    1        -73.982155        40.767937         -73.964630   \n",
       "1                    1        -73.980415        40.738564         -73.999481   \n",
       "2                    1        -73.979027        40.763939         -74.005333   \n",
       "3                    1        -74.010040        40.719971         -74.012268   \n",
       "4                    1        -73.973053        40.793209         -73.972923   \n",
       "...                ...               ...              ...                ...   \n",
       "16095                1        -73.940025        40.751556         -73.970116   \n",
       "16096                1        -73.963051        40.799149         -73.953934   \n",
       "16097                1        -73.912605        40.774769         -73.922478   \n",
       "16098                1        -73.983444        40.755722         -73.978958   \n",
       "16099                1        -74.000763        40.747421         -73.980850   \n",
       "\n",
       "       dropoff_latitude store_and_fwd_flag  \n",
       "0             40.765602                  N  \n",
       "1             40.731152                  N  \n",
       "2             40.710087                  N  \n",
       "3             40.706718                  N  \n",
       "4             40.782520                  N  \n",
       "...                 ...                ...  \n",
       "16095         40.754772                  N  \n",
       "16096         40.766590                  N  \n",
       "16097         40.765701                  N  \n",
       "16098         40.782188                  N  \n",
       "16099         40.758770                  N  \n",
       "\n",
       "[16100 rows x 10 columns]"
      ]
     },
     "execution_count": 3,
     "metadata": {},
     "output_type": "execute_result"
    }
   ],
   "source": [
    "df = pd.read_csv(\"../DataSet/ny_taxi_data.csv\")\n",
    "df"
   ]
  },
  {
   "cell_type": "code",
   "execution_count": 60,
   "id": "3c70cb70",
   "metadata": {},
   "outputs": [
    {
     "data": {
      "text/plain": [
       "passenger_count\n",
       "1    11371\n",
       "2     2357\n",
       "5      866\n",
       "3      638\n",
       "6      541\n",
       "4      327\n",
       "Name: count, dtype: int64"
      ]
     },
     "execution_count": 60,
     "metadata": {},
     "output_type": "execute_result"
    }
   ],
   "source": [
    "df[\"passenger_count\"].value_counts()"
   ]
  },
  {
   "cell_type": "code",
   "execution_count": 61,
   "id": "93c8affc",
   "metadata": {},
   "outputs": [
    {
     "data": {
      "text/plain": [
       "array([1, 1, 1, ..., 1, 1, 1], dtype=int64)"
      ]
     },
     "execution_count": 61,
     "metadata": {},
     "output_type": "execute_result"
    }
   ],
   "source": [
    "# Assuming you want to predict the 'passenger_count'\n",
    "\n",
    "data = df[\"passenger_count\"].values\n",
    "data"
   ]
  },
  {
   "cell_type": "markdown",
   "id": "96b09bc0",
   "metadata": {},
   "source": [
    "### Step 3: Data Preprocessing"
   ]
  },
  {
   "cell_type": "code",
   "execution_count": 62,
   "id": "8ed623bf",
   "metadata": {},
   "outputs": [],
   "source": [
    "scaler = MinMaxScaler()\n",
    "data = scaler.fit_transform(data.reshape(-1, 1))\n",
    "\n",
    "sequence_length = 5  # Adjust this as needed\n",
    "sequences = []\n",
    "targets = []\n",
    "\n",
    "for i in range(len(data) - sequence_length):\n",
    "    sequences.append(data[i:i+sequence_length])\n",
    "    targets.append(data[i+sequence_length])\n",
    "\n",
    "sequences = np.array(sequences)\n",
    "targets = np.array(targets)"
   ]
  },
  {
   "cell_type": "code",
   "execution_count": 63,
   "id": "dca41a50",
   "metadata": {},
   "outputs": [],
   "source": [
    "# sequences\n",
    "# targets"
   ]
  },
  {
   "cell_type": "code",
   "execution_count": 64,
   "id": "648bfc44",
   "metadata": {},
   "outputs": [],
   "source": [
    "X_train, X_test, y_train, y_test = train_test_split(sequences, targets, test_size=0.2, random_state=42)"
   ]
  },
  {
   "cell_type": "markdown",
   "id": "5968c20e",
   "metadata": {},
   "source": [
    "### Step 4: Build and Train RNN Model"
   ]
  },
  {
   "cell_type": "code",
   "execution_count": 65,
   "id": "1e4dfa44",
   "metadata": {},
   "outputs": [
    {
     "name": "stdout",
     "output_type": "stream",
     "text": [
      "(12876, 5, 1)\n"
     ]
    }
   ],
   "source": [
    "print(X_train.shape)"
   ]
  },
  {
   "cell_type": "code",
   "execution_count": 66,
   "id": "54f634aa",
   "metadata": {},
   "outputs": [],
   "source": [
    "model_rnn = keras.Sequential(name=\"RNN\")\n",
    "model_rnn.add(keras.layers.SimpleRNN(256, activation='relu', input_shape=(X_train.shape[1], X_train.shape[2])))\n",
    "model_rnn.add(keras.layers.Dense(1))\n",
    "model_rnn.compile(optimizer='adam', loss='mean_squared_error')"
   ]
  },
  {
   "cell_type": "code",
   "execution_count": 67,
   "id": "08e27f32",
   "metadata": {},
   "outputs": [],
   "source": [
    "from tensorflow.keras import layers, models\n",
    "\n",
    "model_rnn = models.Sequential(name=\"RNN\")\n",
    "model_rnn.add(layers.SimpleRNN(100, activation='relu', return_sequences=True, input_shape=(X_train.shape[1], 1)))\n",
    "model_rnn.add(layers.SimpleRNN(50, activation='relu'))\n",
    "model_rnn.add(layers.Dense(64, activation='relu'))\n",
    "model_rnn.add(layers.Dropout(0.3))\n",
    "model_rnn.add(layers.Dense(32, activation='relu'))\n",
    "model_rnn.add(layers.Dense(1))\n",
    "\n",
    "model_rnn.compile(optimizer='RMSprop', loss='mean_squared_error')\n"
   ]
  },
  {
   "cell_type": "code",
   "execution_count": 68,
   "id": "cdcf3b0b",
   "metadata": {},
   "outputs": [
    {
     "name": "stdout",
     "output_type": "stream",
     "text": [
      "Epoch 1/10\n",
      "\u001b[1m805/805\u001b[0m \u001b[32m━━━━━━━━━━━━━━━━━━━━\u001b[0m\u001b[37m\u001b[0m \u001b[1m31s\u001b[0m 8ms/step - loss: 0.0731\n",
      "Epoch 2/10\n",
      "\u001b[1m805/805\u001b[0m \u001b[32m━━━━━━━━━━━━━━━━━━━━\u001b[0m\u001b[37m\u001b[0m \u001b[1m7s\u001b[0m 8ms/step - loss: 0.0724\n",
      "Epoch 3/10\n",
      "\u001b[1m805/805\u001b[0m \u001b[32m━━━━━━━━━━━━━━━━━━━━\u001b[0m\u001b[37m\u001b[0m \u001b[1m7s\u001b[0m 8ms/step - loss: 0.0693\n",
      "Epoch 4/10\n",
      "\u001b[1m805/805\u001b[0m \u001b[32m━━━━━━━━━━━━━━━━━━━━\u001b[0m\u001b[37m\u001b[0m \u001b[1m7s\u001b[0m 8ms/step - loss: 0.0710\n",
      "Epoch 5/10\n",
      "\u001b[1m805/805\u001b[0m \u001b[32m━━━━━━━━━━━━━━━━━━━━\u001b[0m\u001b[37m\u001b[0m \u001b[1m6s\u001b[0m 8ms/step - loss: 0.0722\n",
      "Epoch 6/10\n",
      "\u001b[1m805/805\u001b[0m \u001b[32m━━━━━━━━━━━━━━━━━━━━\u001b[0m\u001b[37m\u001b[0m \u001b[1m6s\u001b[0m 8ms/step - loss: 0.0714\n",
      "Epoch 7/10\n",
      "\u001b[1m805/805\u001b[0m \u001b[32m━━━━━━━━━━━━━━━━━━━━\u001b[0m\u001b[37m\u001b[0m \u001b[1m6s\u001b[0m 8ms/step - loss: 0.0708\n",
      "Epoch 8/10\n",
      "\u001b[1m805/805\u001b[0m \u001b[32m━━━━━━━━━━━━━━━━━━━━\u001b[0m\u001b[37m\u001b[0m \u001b[1m6s\u001b[0m 8ms/step - loss: 0.0704\n",
      "Epoch 9/10\n",
      "\u001b[1m805/805\u001b[0m \u001b[32m━━━━━━━━━━━━━━━━━━━━\u001b[0m\u001b[37m\u001b[0m \u001b[1m7s\u001b[0m 9ms/step - loss: 0.0707\n",
      "Epoch 10/10\n",
      "\u001b[1m805/805\u001b[0m \u001b[32m━━━━━━━━━━━━━━━━━━━━\u001b[0m\u001b[37m\u001b[0m \u001b[1m7s\u001b[0m 9ms/step - loss: 0.0702\n"
     ]
    },
    {
     "data": {
      "text/plain": [
       "<keras.src.callbacks.history.History at 0x1ec6c3c6480>"
      ]
     },
     "execution_count": 68,
     "metadata": {},
     "output_type": "execute_result"
    }
   ],
   "source": [
    "#increace accuracy decreace batch_size\n",
    "model_rnn.fit(X_train, y_train, epochs=10, batch_size=16, verbose=1)"
   ]
  },
  {
   "cell_type": "markdown",
   "id": "69744a6e",
   "metadata": {},
   "source": [
    "### Step 5: Build and Train LSTM Model"
   ]
  },
  {
   "cell_type": "code",
   "execution_count": 71,
   "id": "69934fb9",
   "metadata": {},
   "outputs": [],
   "source": [
    "model_lstm = keras.Sequential(name=\"LSTM\")\n",
    "model_lstm.add(keras.layers.LSTM(100, activation='relu', input_shape=(X_train.shape[1], 1)))\n",
    "model_lstm.add(keras.layers.Dense(1))\n",
    "model_lstm.compile(optimizer='adam', loss='mean_squared_error')"
   ]
  },
  {
   "cell_type": "code",
   "execution_count": 72,
   "id": "24ff90f4",
   "metadata": {},
   "outputs": [
    {
     "name": "stdout",
     "output_type": "stream",
     "text": [
      "Epoch 1/10\n",
      "\u001b[1m805/805\u001b[0m \u001b[32m━━━━━━━━━━━━━━━━━━━━\u001b[0m\u001b[37m\u001b[0m \u001b[1m20s\u001b[0m 7ms/step - loss: 0.0725\n",
      "Epoch 2/10\n",
      "\u001b[1m805/805\u001b[0m \u001b[32m━━━━━━━━━━━━━━━━━━━━\u001b[0m\u001b[37m\u001b[0m \u001b[1m6s\u001b[0m 7ms/step - loss: 0.0712\n",
      "Epoch 3/10\n",
      "\u001b[1m805/805\u001b[0m \u001b[32m━━━━━━━━━━━━━━━━━━━━\u001b[0m\u001b[37m\u001b[0m \u001b[1m11s\u001b[0m 8ms/step - loss: 0.0704\n",
      "Epoch 4/10\n",
      "\u001b[1m805/805\u001b[0m \u001b[32m━━━━━━━━━━━━━━━━━━━━\u001b[0m\u001b[37m\u001b[0m \u001b[1m7s\u001b[0m 8ms/step - loss: 0.0691\n",
      "Epoch 5/10\n",
      "\u001b[1m805/805\u001b[0m \u001b[32m━━━━━━━━━━━━━━━━━━━━\u001b[0m\u001b[37m\u001b[0m \u001b[1m6s\u001b[0m 8ms/step - loss: 0.0711\n",
      "Epoch 6/10\n",
      "\u001b[1m805/805\u001b[0m \u001b[32m━━━━━━━━━━━━━━━━━━━━\u001b[0m\u001b[37m\u001b[0m \u001b[1m10s\u001b[0m 8ms/step - loss: 0.0719\n",
      "Epoch 7/10\n",
      "\u001b[1m805/805\u001b[0m \u001b[32m━━━━━━━━━━━━━━━━━━━━\u001b[0m\u001b[37m\u001b[0m \u001b[1m6s\u001b[0m 7ms/step - loss: 0.0687\n",
      "Epoch 8/10\n",
      "\u001b[1m805/805\u001b[0m \u001b[32m━━━━━━━━━━━━━━━━━━━━\u001b[0m\u001b[37m\u001b[0m \u001b[1m7s\u001b[0m 8ms/step - loss: 0.0711\n",
      "Epoch 9/10\n",
      "\u001b[1m805/805\u001b[0m \u001b[32m━━━━━━━━━━━━━━━━━━━━\u001b[0m\u001b[37m\u001b[0m \u001b[1m6s\u001b[0m 8ms/step - loss: 0.0682\n",
      "Epoch 10/10\n",
      "\u001b[1m805/805\u001b[0m \u001b[32m━━━━━━━━━━━━━━━━━━━━\u001b[0m\u001b[37m\u001b[0m \u001b[1m7s\u001b[0m 8ms/step - loss: 0.0691\n"
     ]
    },
    {
     "data": {
      "text/plain": [
       "<keras.src.callbacks.history.History at 0x1ec6e722660>"
      ]
     },
     "execution_count": 72,
     "metadata": {},
     "output_type": "execute_result"
    }
   ],
   "source": [
    "model_lstm.fit(X_train, y_train, epochs=10, batch_size=16, verbose=1)"
   ]
  },
  {
   "cell_type": "markdown",
   "id": "2ff407a0",
   "metadata": {},
   "source": [
    "### Step 6: Build and Train GRU Model"
   ]
  },
  {
   "cell_type": "code",
   "execution_count": 73,
   "id": "433b0c1b",
   "metadata": {},
   "outputs": [],
   "source": [
    "model_gru = keras.Sequential(name=\"GRU\")\n",
    "model_gru.add(keras.layers.GRU(100, activation='relu', input_shape=(X_train.shape[1], 1)))\n",
    "model_gru.add(keras.layers.Dense(1))\n",
    "model_gru.compile(optimizer='adam', loss='mean_squared_error')"
   ]
  },
  {
   "cell_type": "code",
   "execution_count": 74,
   "id": "f07e0c6d",
   "metadata": {},
   "outputs": [
    {
     "name": "stdout",
     "output_type": "stream",
     "text": [
      "Epoch 1/10\n",
      "\u001b[1m805/805\u001b[0m \u001b[32m━━━━━━━━━━━━━━━━━━━━\u001b[0m\u001b[37m\u001b[0m \u001b[1m8s\u001b[0m 6ms/step - loss: 0.0739\n",
      "Epoch 2/10\n",
      "\u001b[1m805/805\u001b[0m \u001b[32m━━━━━━━━━━━━━━━━━━━━\u001b[0m\u001b[37m\u001b[0m \u001b[1m4s\u001b[0m 4ms/step - loss: 0.0706\n",
      "Epoch 3/10\n",
      "\u001b[1m805/805\u001b[0m \u001b[32m━━━━━━━━━━━━━━━━━━━━\u001b[0m\u001b[37m\u001b[0m \u001b[1m3s\u001b[0m 4ms/step - loss: 0.0708\n",
      "Epoch 4/10\n",
      "\u001b[1m805/805\u001b[0m \u001b[32m━━━━━━━━━━━━━━━━━━━━\u001b[0m\u001b[37m\u001b[0m \u001b[1m3s\u001b[0m 4ms/step - loss: 0.0685\n",
      "Epoch 5/10\n",
      "\u001b[1m805/805\u001b[0m \u001b[32m━━━━━━━━━━━━━━━━━━━━\u001b[0m\u001b[37m\u001b[0m \u001b[1m3s\u001b[0m 4ms/step - loss: 0.0706\n",
      "Epoch 6/10\n",
      "\u001b[1m805/805\u001b[0m \u001b[32m━━━━━━━━━━━━━━━━━━━━\u001b[0m\u001b[37m\u001b[0m \u001b[1m3s\u001b[0m 4ms/step - loss: 0.0718\n",
      "Epoch 7/10\n",
      "\u001b[1m805/805\u001b[0m \u001b[32m━━━━━━━━━━━━━━━━━━━━\u001b[0m\u001b[37m\u001b[0m \u001b[1m4s\u001b[0m 5ms/step - loss: 0.0675\n",
      "Epoch 8/10\n",
      "\u001b[1m805/805\u001b[0m \u001b[32m━━━━━━━━━━━━━━━━━━━━\u001b[0m\u001b[37m\u001b[0m \u001b[1m5s\u001b[0m 6ms/step - loss: 0.0709\n",
      "Epoch 9/10\n",
      "\u001b[1m805/805\u001b[0m \u001b[32m━━━━━━━━━━━━━━━━━━━━\u001b[0m\u001b[37m\u001b[0m \u001b[1m5s\u001b[0m 6ms/step - loss: 0.0717\n",
      "Epoch 10/10\n",
      "\u001b[1m805/805\u001b[0m \u001b[32m━━━━━━━━━━━━━━━━━━━━\u001b[0m\u001b[37m\u001b[0m \u001b[1m3s\u001b[0m 4ms/step - loss: 0.0706\n"
     ]
    },
    {
     "data": {
      "text/plain": [
       "<keras.src.callbacks.history.History at 0x1ec7191a6c0>"
      ]
     },
     "execution_count": 74,
     "metadata": {},
     "output_type": "execute_result"
    }
   ],
   "source": [
    "model_gru.fit(X_train, y_train, epochs=10, batch_size=16, verbose=1)"
   ]
  },
  {
   "cell_type": "code",
   "execution_count": 77,
   "id": "f7639579",
   "metadata": {},
   "outputs": [
    {
     "name": "stdout",
     "output_type": "stream",
     "text": [
      "(3219, 5, 1)\n"
     ]
    }
   ],
   "source": [
    "print(X_test.shape)"
   ]
  },
  {
   "cell_type": "markdown",
   "id": "58924a0f",
   "metadata": {},
   "source": [
    "### Step 7: Evaluate the models"
   ]
  },
  {
   "cell_type": "code",
   "execution_count": 80,
   "id": "72e36ef0",
   "metadata": {},
   "outputs": [
    {
     "name": "stdout",
     "output_type": "stream",
     "text": [
      "\u001b[1m101/101\u001b[0m \u001b[32m━━━━━━━━━━━━━━━━━━━━\u001b[0m\u001b[37m\u001b[0m \u001b[1m0s\u001b[0m 2ms/step\n",
      "[1.6022582 1.6081645 1.5915504 ... 1.6046593 1.6066582 1.6015571]\n",
      "\u001b[1m101/101\u001b[0m \u001b[32m━━━━━━━━━━━━━━━━━━━━\u001b[0m\u001b[37m\u001b[0m \u001b[1m0s\u001b[0m 3ms/step\n",
      "[1.6463208 1.6587908 1.6466595 ... 1.6447976 1.6458774 1.644064 ]\n",
      "\u001b[1m101/101\u001b[0m \u001b[32m━━━━━━━━━━━━━━━━━━━━\u001b[0m\u001b[37m\u001b[0m \u001b[1m0s\u001b[0m 4ms/step\n",
      "[1.688741  1.6918963 1.672277  ... 1.6850419 1.6826457 1.676261 ]\n",
      "RNN Mean Squared Error: 1.6781611094438498\n",
      "LSTM Mean Squared Error: 1.672506881298008\n",
      "GRU Mean Squared Error: 1.6734300561656794\n"
     ]
    }
   ],
   "source": [
    "def evaluate_model(model, X_test, y_test):\n",
    "    X_test_reshaped = X_test.reshape(X_test.shape[0], X_test.shape[1], 1)\n",
    "    y_pred = model.predict(X_test_reshaped)\n",
    "    print(y_pred)\n",
    "    y_pred = scaler.inverse_transform(y_pred).flatten()\n",
    "    y_test = scaler.inverse_transform(y_test.reshape(-1, 1)).flatten()\n",
    "    mse = mean_squared_error(y_test, y_pred)\n",
    "    return mse\n",
    "\n",
    "mse_rnn = evaluate_model(model_rnn, X_test, y_test)\n",
    "mse_lstm = evaluate_model(model_lstm, X_test, y_test)\n",
    "mse_gru = evaluate_model(model_gru, X_test, y_test)\n",
    "\n",
    "print(f\"RNN Mean Squared Error: {mse_rnn}\")\n",
    "print(f\"LSTM Mean Squared Error: {mse_lstm}\")\n",
    "print(f\"GRU Mean Squared Error: {mse_gru}\")"
   ]
  },
  {
   "cell_type": "markdown",
   "id": "ed0c61e9",
   "metadata": {},
   "source": [
    "### Step 8: Visualization"
   ]
  },
  {
   "cell_type": "code",
   "execution_count": 79,
   "id": "193b50f1",
   "metadata": {},
   "outputs": [
    {
     "name": "stdout",
     "output_type": "stream",
     "text": [
      "\u001b[1m101/101\u001b[0m \u001b[32m━━━━━━━━━━━━━━━━━━━━\u001b[0m\u001b[37m\u001b[0m \u001b[1m0s\u001b[0m 2ms/step\n",
      "\u001b[1m101/101\u001b[0m \u001b[32m━━━━━━━━━━━━━━━━━━━━\u001b[0m\u001b[37m\u001b[0m \u001b[1m0s\u001b[0m 2ms/step\n",
      "\u001b[1m101/101\u001b[0m \u001b[32m━━━━━━━━━━━━━━━━━━━━\u001b[0m\u001b[37m\u001b[0m \u001b[1m0s\u001b[0m 3ms/step\n"
     ]
    },
    {
     "data": {
      "image/png": "[encoded data removed]",
      "text/plain": [
       "<Figure size 1200x600 with 1 Axes>"
      ]
     },
     "metadata": {},
     "output_type": "display_data"
    }
   ],
   "source": [
    "y_pred_rnn = model_rnn.predict(X_test.reshape(X_test.shape[0], X_test.shape[1], 1))\n",
    "y_pred_rnn = scaler.inverse_transform(y_pred_rnn).flatten()\n",
    "\n",
    "y_pred_lstm = model_lstm.predict(X_test.reshape(X_test.shape[0], X_test.shape[1], 1))\n",
    "y_pred_lstm = scaler.inverse_transform(y_pred_lstm).flatten()\n",
    "\n",
    "y_pred_gru = model_gru.predict(X_test.reshape(X_test.shape[0], X_test.shape[1], 1))\n",
    "y_pred_gru = scaler.inverse_transform(y_pred_gru).flatten()\n",
    "\n",
    "plt.figure(figsize=(12, 6))\n",
    "plt.plot(y_test, label='Actual')\n",
    "plt.plot(y_pred_rnn, label='RNN Predicted', alpha=0.7)\n",
    "plt.plot(y_pred_lstm, label='LSTM Predicted', alpha=0.7)\n",
    "plt.plot(y_pred_gru, label='GRU Predicted', alpha=0.7)\n",
    "plt.legend()\n",
    "plt.title('Passenger Count Prediction vs. Actual')\n",
    "plt.show()"
   ]
  },
  {
   "cell_type": "code",
   "execution_count": null,
   "id": "8c85e80c",
   "metadata": {},
   "outputs": [],
   "source": []
  }
 ],
 "metadata": {
  "kernelspec": {
   "display_name": "base",
   "language": "python",
   "name": "python3"
  },
  "language_info": {
   "codemirror_mode": {
    "name": "ipython",
    "version": 3
   },
   "file_extension": ".py",
   "mimetype": "text/x-python",
   "name": "python",
   "nbconvert_exporter": "python",
   "pygments_lexer": "ipython3",
   "version": "3.12.7"
  }
 },
 "nbformat": 4,
 "nbformat_minor": 5
}
